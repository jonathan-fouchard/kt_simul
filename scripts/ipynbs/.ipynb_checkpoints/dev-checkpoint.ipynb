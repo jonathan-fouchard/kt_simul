{
 "metadata": {
  "name": "dev"
 },
 "nbformat": 3,
 "nbformat_minor": 0,
 "worksheets": [
  {
   "cells": [
    {
     "cell_type": "code",
     "collapsed": false,
     "input": [
      "%load_ext autoreload\n",
      "%autoreload 2\n",
      "\n",
      "import sys\n",
      "import os\n",
      "import glob\n",
      "\n",
      "import pandas as pd\n",
      "\n",
      "from kt_simul.io.xml_handler import ParamTree\n",
      "from kt_simul.core.simul_spindle import Metaphase\n",
      "from kt_simul.io.simuio import SimuIO\n",
      "from kt_simul.utils.progress import pprogress\n",
      "from kt_simul.core import parameters\n",
      "\n",
      "PARAMFILE = parameters.PARAMFILE\n",
      "MEASUREFILE = parameters.MEASUREFILE"
     ],
     "language": "python",
     "metadata": {},
     "outputs": [],
     "prompt_number": 1
    },
    {
     "cell_type": "code",
     "collapsed": false,
     "input": [
      "paramtree = ParamTree(PARAMFILE)\n",
      "measuretree = ParamTree(MEASUREFILE, adimentionalized=False)\n",
      "fname = \"../test.h5\"\n",
      "\n",
      "#meta = Metaphase(verbose=True, paramtree=paramtree, measuretree=measuretree, initial_plug='random')\n",
      "#meta.simul()\n",
      "#SimuIO(meta).save(fname, metadata=None)"
     ],
     "language": "python",
     "metadata": {},
     "outputs": [],
     "prompt_number": 2
    },
    {
     "cell_type": "code",
     "collapsed": false,
     "input": [
      "meta = SimuIO().read(fname)"
     ],
     "language": "python",
     "metadata": {},
     "outputs": [],
     "prompt_number": 3
    },
    {
     "cell_type": "code",
     "collapsed": false,
     "input": [
      "duration = meta.KD.duration\n",
      "dt = meta.KD.dt\n",
      "steps = meta.KD.num_steps\n",
      "anaphase = meta.KD.params['t_A']\n",
      "\n",
      "times = np.arange(0, duration, dt)\n",
      "\n",
      "spbA = meta.KD.spbL.traj\n",
      "spbB = meta.KD.spbR.traj\n",
      "\n",
      "kts = meta.KD.chromosomes\n",
      "\n",
      "\n",
      "fig = plt.figure()\n",
      "\n",
      "tot = 5\n",
      "ax1 = plt.subplot2grid((tot, 1), (0, 0), rowspan=1)\n",
      "ax2 = plt.subplot2grid((tot, 1), (1, 0), rowspan=3, sharex=ax1)\n",
      "ax3 = plt.subplot2grid((tot, 1), (4, 0), rowspan=1, sharex=ax1)\n",
      "\n",
      "cols = [\"#CF9501\",\n",
      "        \"#0562BE\"]\n",
      "\n",
      "kt = kts[0]\n",
      "\n",
      "# Draw kymo\n",
      "ax2.plot(times, spbA, color='black')\n",
      "ax2.plot(times, spbB, color='black')\n",
      "ax2.plot(times, kt.cen_A.traj, color=cols[0])\n",
      "ax2.plot(times, kt.cen_B.traj, color=cols[1])\n",
      "for k in kts[1:]:\n",
      "    ax2.plot(times, k.cen_A.traj, color='gray', alpha=0.3)\n",
      "    ax2.plot(times, k.cen_B.traj, color='gray', alpha=0.3)\n",
      "ax2.grid()\n",
      "\n",
      "for lab in ax1.xaxis.get_majorticklabels():\n",
      "    lab.set_visible(False)\n",
      "for lab in ax2.xaxis.get_majorticklabels():\n",
      "    lab.set_visible(False)\n",
      "\n",
      "ax1.grid()\n",
      "ax3.grid()\n",
      "\n",
      "correctA = kt.correct_history.T[1]\n",
      "correctB = kt.correct_history.T[0]\n",
      "errA = kt.erroneous_history.T[1]\n",
      "errB = kt.erroneous_history.T[0]\n",
      "\n",
      "ax3.plot(times, correctA, color=cols[0])\n",
      "ax3.plot(times, errA, color=\"red\")\n",
      "\n",
      "ax1.plot(times, correctB, color=cols[1])\n",
      "ax1.plot(times, errB, color=\"red\")\n",
      "\n",
      "ax3.set_xlabel('Time (s)')\n",
      "ax2.set_ylabel('Distance from center (um)')\n",
      "\n",
      "ax1.set_yticks(range(5))\n",
      "ax3.set_yticks(range(5))"
     ],
     "language": "python",
     "metadata": {},
     "outputs": [
      {
       "metadata": {},
       "output_type": "pyout",
       "prompt_number": 4,
       "text": [
        "[<matplotlib.axis.YTick at 0x4977190>,\n",
        " <matplotlib.axis.YTick at 0x497fe10>,\n",
        " <matplotlib.axis.YTick at 0x4aed1d0>,\n",
        " <matplotlib.axis.YTick at 0x4af0a10>,\n",
        " <matplotlib.axis.YTick at 0x4af2090>]"
       ]
      }
     ],
     "prompt_number": 4
    },
    {
     "cell_type": "code",
     "collapsed": false,
     "input": [],
     "language": "python",
     "metadata": {},
     "outputs": []
    }
   ],
   "metadata": {}
  }
 ]
}