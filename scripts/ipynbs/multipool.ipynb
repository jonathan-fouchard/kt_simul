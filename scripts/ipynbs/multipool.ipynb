{
 "metadata": {
  "name": "multipool"
 },
 "nbformat": 3,
 "nbformat_minor": 0,
 "worksheets": [
  {
   "cells": [
    {
     "cell_type": "code",
     "collapsed": false,
     "input": [
      "%load_ext autoreload\n",
      "%autoreload 2\n",
      "\n",
      "import sys\n",
      "import os\n",
      "import glob\n",
      "import shutil\n",
      "import itertools\n",
      "\n",
      "import pandas as pd\n",
      "\n",
      "from kt_simul.io.xml_handler import ParamTree\n",
      "from kt_simul.core import parameters\n",
      "from kt_simul.pool import MultiPool\n",
      "from kt_simul.pool import Pool\n",
      "\n",
      "PARAMFILE = parameters.PARAMFILE\n",
      "MEASUREFILE = parameters.MEASUREFILE"
     ],
     "language": "python",
     "metadata": {},
     "outputs": [],
     "prompt_number": 1
    },
    {
     "cell_type": "code",
     "collapsed": false,
     "input": [
      "data_path = '/home/hadim/Insync/Documents/phd/data/ktsimu'\n",
      "multi_pool_path = os.path.join(data_path, \"multi_pool\")\n",
      "\n",
      "paramtree = ParamTree(PARAMFILE)\n",
      "measuretree = ParamTree(MEASUREFILE, adimentionalized=False)\n",
      "\n",
      "parameters = [('ldep', np.arange(0, 0.2, 0.1), 1),\n",
      "              ('d_alpha', np.arange(0.04, 0.05, 0.01), 3),\n",
      "             ]\n",
      "trees = ['paramtree', 'paramtree']\n",
      "\n",
      "multi_pool_params = {'load': True,\n",
      "                     'n_simu': 1,\n",
      "                     'multi_pool_path': multi_pool_path,\n",
      "                     'parameters': parameters,\n",
      "                     'trees': trees,\n",
      "                     'paramtree': paramtree,\n",
      "                     'measuretree': measuretree,\n",
      "                     'initial_plug': 'random',\n",
      "                     'parallel': True,\n",
      "                     'verbose': True\n",
      "                     }\n",
      "\n",
      "mpool = MultiPool(**multi_pool_params)\n",
      "mpool.run()"
     ],
     "language": "python",
     "metadata": {},
     "outputs": [
      {
       "output_type": "stream",
       "stream": "stderr",
       "text": [
        "2013-06-30 23:43:22:ERROR:kt_simul.pool.multi_pool: Pool has already been simulated.\n"
       ]
      },
      {
       "metadata": {},
       "output_type": "pyout",
       "prompt_number": 2,
       "text": [
        "False"
       ]
      }
     ],
     "prompt_number": 2
    },
    {
     "cell_type": "code",
     "collapsed": false,
     "input": [
      "def myfunc(parameters, metas):\n",
      "    print metas\n",
      "    \n",
      "mpool.iter_pools(myfunc, verbose=False)"
     ],
     "language": "python",
     "metadata": {},
     "outputs": [
      {
       "output_type": "stream",
       "stream": "stdout",
       "text": [
        "[<kt_simul.core.simul_spindle.Metaphase object at 0x7c97f10>]\n",
        "[<kt_simul.core.simul_spindle.Metaphase object at 0x58a7a10>]"
       ]
      },
      {
       "output_type": "stream",
       "stream": "stdout",
       "text": [
        "\n",
        "[<kt_simul.core.simul_spindle.Metaphase object at 0x71fb690>]"
       ]
      },
      {
       "output_type": "stream",
       "stream": "stdout",
       "text": [
        "\n",
        "[<kt_simul.core.simul_spindle.Metaphase object at 0x66fef50>]"
       ]
      },
      {
       "output_type": "stream",
       "stream": "stdout",
       "text": [
        "\n"
       ]
      },
      {
       "metadata": {},
       "output_type": "pyout",
       "prompt_number": 6,
       "text": [
        "[None, None, None, None]"
       ]
      }
     ],
     "prompt_number": 6
    },
    {
     "cell_type": "code",
     "collapsed": false,
     "input": [],
     "language": "python",
     "metadata": {},
     "outputs": []
    }
   ],
   "metadata": {}
  }
 ]
}