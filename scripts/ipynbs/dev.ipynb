{
 "metadata": {
  "name": "dev"
 },
 "nbformat": 3,
 "nbformat_minor": 0,
 "worksheets": [
  {
   "cells": [
    {
     "cell_type": "code",
     "collapsed": false,
     "input": [
      "%load_ext autoreload\n",
      "%autoreload 2\n",
      "\n",
      "import sys\n",
      "import os\n",
      "import glob\n",
      "import shutil\n",
      "\n",
      "import pandas as pd\n",
      "\n",
      "from kt_simul.io.xml_handler import ParamTree\n",
      "from kt_simul.core import parameters\n",
      "from kt_simul.pool import Pool\n",
      "\n",
      "PARAMFILE = parameters.PARAMFILE\n",
      "MEASUREFILE = parameters.MEASUREFILE"
     ],
     "language": "python",
     "metadata": {},
     "outputs": [],
     "prompt_number": 1
    },
    {
     "cell_type": "code",
     "collapsed": false,
     "input": [
      "data_path = '/home/hadim/Insync/Documents/phd/data/ktsimu'\n",
      "\n",
      "paramtree = ParamTree(PARAMFILE)\n",
      "measuretree = ParamTree(MEASUREFILE, adimentionalized=False)\n",
      "\n",
      "simu_path = os.path.join(data_path, \"pool_100\")\n",
      "shutil.rmtree(simu_path)\n",
      "\n",
      "pool_params = {'load': False,\n",
      "               'paramtree': paramtree,\n",
      "               'measuretree': measuretree,\n",
      "               'n_simu': 10,\n",
      "               'simu_path': simu_path,\n",
      "               'parallel': True,\n",
      "               'verbose': True\n",
      "               }\n",
      "\n",
      "pool = Pool(**pool_params)\n",
      "pool.run()"
     ],
     "language": "python",
     "metadata": {},
     "outputs": [
      {
       "output_type": "stream",
       "stream": "stderr",
       "text": [
        "/home/hadim/local/virtualenvs/st/lib/python2.7/site-packages/pandas/io/pytables.py:1795: PerformanceWarning: \n",
        "your performance may suffer as PyTables will pickle object types that it cannot map\n",
        "directly to c-types [inferred_type->mixed,key->block0_values]\n",
        "\n",
        "  warnings.warn(ws, PerformanceWarning)\n",
        "/home/hadim/local/virtualenvs/st/lib/python2.7/site-packages/pandas/io/pytables.py:1795: PerformanceWarning: \n",
        "your performance may suffer as PyTables will pickle object types that it cannot map\n",
        "directly to c-types [inferred_type->mixed-integer,key->values]\n",
        "\n",
        "  warnings.warn(ws, PerformanceWarning)\n",
        "2013-06-30 18:25:08:INFO:kt_simul.pool.pool: Parallel mode enabled: 5 cores will be used to run 10 simulations\n"
       ]
      },
      {
       "output_type": "stream",
       "stream": "stdout",
       "text": [
        "\r",
        "11% [====>                                             ]  (1 / 10)\r",
        "                                                                                \r",
        "\r",
        "\r",
        "                                                                                \r",
        "\r",
        "\r",
        "                                                                                \r",
        "\r"
       ]
      },
      {
       "output_type": "stream",
       "stream": "stdout",
       "text": [
        "\r",
        "21% [=========>                                        ]  (2 / 10)"
       ]
      },
      {
       "output_type": "stream",
       "stream": "stdout",
       "text": [
        "\r",
        "31% [==============>                                   ]  (3 / 10)\r",
        "                                                                                \r",
        "\r",
        "\r",
        "                                                                                \r",
        "\r"
       ]
      },
      {
       "output_type": "stream",
       "stream": "stdout",
       "text": [
        "\r",
        "41% [===================>                              ]  (4 / 10)"
       ]
      },
      {
       "output_type": "stream",
       "stream": "stdout",
       "text": [
        "\r",
        "51% [========================>                         ]  (5 / 10)"
       ]
      },
      {
       "output_type": "stream",
       "stream": "stdout",
       "text": [
        "\r",
        "61% [=============================>                    ]  (6 / 10)\r",
        "                                                                                \r",
        "\r",
        "\r",
        "                                                                                \r",
        "\r"
       ]
      },
      {
       "output_type": "stream",
       "stream": "stdout",
       "text": [
        "\r",
        "71% [==================================>               ]  (7 / 10)\r",
        "                                                                                \r",
        "\r"
       ]
      },
      {
       "output_type": "stream",
       "stream": "stdout",
       "text": [
        "\r",
        "81% [=======================================>          ]  (8 / 10)\r",
        "                                                                                \r",
        "\r"
       ]
      },
      {
       "output_type": "stream",
       "stream": "stdout",
       "text": [
        "\r",
        "91% [============================================>     ]  (9 / 10)\r",
        "                                                                                \r",
        "\r"
       ]
      },
      {
       "output_type": "stream",
       "stream": "stdout",
       "text": [
        "\r",
        "101% [=================================================>]  (10 / 10)"
       ]
      },
      {
       "output_type": "stream",
       "stream": "stdout",
       "text": [
        "\r",
        "                                                                                \r",
        "\r"
       ]
      },
      {
       "output_type": "stream",
       "stream": "stderr",
       "text": [
        "2013-06-30 18:25:13:INFO:kt_simul.pool.pool: Reordering results\n"
       ]
      },
      {
       "output_type": "stream",
       "stream": "stderr",
       "text": [
        "2013-06-30 18:25:13:INFO:kt_simul.pool.pool: Pool simulations are done\n"
       ]
      }
     ],
     "prompt_number": 2
    }
   ],
   "metadata": {}
  }
 ]
}