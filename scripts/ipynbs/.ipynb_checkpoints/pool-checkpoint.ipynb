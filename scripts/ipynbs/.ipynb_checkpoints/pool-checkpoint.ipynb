{
 "metadata": {
  "name": "pool"
 },
 "nbformat": 3,
 "nbformat_minor": 0,
 "worksheets": [
  {
   "cells": [
    {
     "cell_type": "code",
     "collapsed": false,
     "input": [
      "%load_ext autoreload\n",
      "%autoreload 2\n",
      "\n",
      "import sys\n",
      "import os\n",
      "import glob\n",
      "import shutil\n",
      "import itertools\n",
      "\n",
      "import pandas as pd\n",
      "\n",
      "from kt_simul.io.xml_handler import ParamTree\n",
      "from kt_simul.core import parameters\n",
      "from kt_simul.pool import Pool\n",
      "\n",
      "PARAMFILE = parameters.PARAMFILE\n",
      "MEASUREFILE = parameters.MEASUREFILE"
     ],
     "language": "python",
     "metadata": {},
     "outputs": [
      {
       "output_type": "stream",
       "stream": "stdout",
       "text": [
        "The autoreload extension is already loaded. To reload it, use:\n",
        "  %reload_ext autoreload\n"
       ]
      }
     ],
     "prompt_number": 54
    },
    {
     "cell_type": "code",
     "collapsed": false,
     "input": [
      "data_path = '/home/hadim/Insync/Documents/phd/data/ktsimu'\n",
      "\n",
      "paramtree = ParamTree(PARAMFILE)\n",
      "measuretree = ParamTree(MEASUREFILE, adimentionalized=False)\n",
      "\n",
      "simu_path = os.path.join(data_path, \"pool_100\")\n",
      "#shutil.rmtree(simu_path)\n",
      "\n",
      "pool_params = {'load': True,\n",
      "               'paramtree': paramtree,\n",
      "               'measuretree': measuretree,\n",
      "               'n_simu': 10,\n",
      "               'simu_path': simu_path,\n",
      "               'parallel': True,\n",
      "               'verbose': True\n",
      "               }\n",
      "\n",
      "pool = Pool(**pool_params)\n",
      "pool.run()"
     ],
     "language": "python",
     "metadata": {},
     "outputs": [
      {
       "output_type": "stream",
       "stream": "stderr",
       "text": [
        "2013-06-30 22:16:02:INFO:kt_simul.pool.pool: Load Metaphase in memory\n"
       ]
      },
      {
       "output_type": "stream",
       "stream": "stdout",
       "text": [
        "\r",
        "11% [====>                                             ]"
       ]
      },
      {
       "output_type": "stream",
       "stream": "stdout",
       "text": [
        "\r",
        "21% [=========>                                        ]"
       ]
      },
      {
       "output_type": "stream",
       "stream": "stdout",
       "text": [
        "\r",
        "31% [==============>                                   ]"
       ]
      },
      {
       "output_type": "stream",
       "stream": "stdout",
       "text": [
        "\r",
        "41% [===================>                              ]"
       ]
      },
      {
       "output_type": "stream",
       "stream": "stdout",
       "text": [
        "\r",
        "51% [========================>                         ]"
       ]
      },
      {
       "output_type": "stream",
       "stream": "stdout",
       "text": [
        "\r",
        "61% [=============================>                    ]"
       ]
      },
      {
       "output_type": "stream",
       "stream": "stdout",
       "text": [
        "\r",
        "71% [==================================>               ]"
       ]
      },
      {
       "output_type": "stream",
       "stream": "stdout",
       "text": [
        "\r",
        "81% [=======================================>          ]"
       ]
      },
      {
       "output_type": "stream",
       "stream": "stdout",
       "text": [
        "\r",
        "91% [============================================>     ]"
       ]
      },
      {
       "output_type": "stream",
       "stream": "stdout",
       "text": [
        "\r",
        "101% [=================================================>]"
       ]
      },
      {
       "output_type": "stream",
       "stream": "stdout",
       "text": [
        "\r",
        "                                                                                \r",
        "\r"
       ]
      },
      {
       "output_type": "stream",
       "stream": "stderr",
       "text": [
        "2013-06-30 22:16:08:ERROR:kt_simul.pool.pool: Pool has already been simulated.\n"
       ]
      },
      {
       "metadata": {},
       "output_type": "pyout",
       "prompt_number": 55,
       "text": [
        "False"
       ]
      }
     ],
     "prompt_number": 55
    },
    {
     "cell_type": "code",
     "collapsed": false,
     "input": [
      "pool.metaphases"
     ],
     "language": "python",
     "metadata": {},
     "outputs": [
      {
       "metadata": {},
       "output_type": "pyout",
       "prompt_number": 56,
       "text": [
        "[<kt_simul.core.simul_spindle.Metaphase at 0x55d3750>,\n",
        " <kt_simul.core.simul_spindle.Metaphase at 0x55e2710>,\n",
        " <kt_simul.core.simul_spindle.Metaphase at 0x6e8b310>,\n",
        " <kt_simul.core.simul_spindle.Metaphase at 0x6e9aed0>,\n",
        " <kt_simul.core.simul_spindle.Metaphase at 0x7e03a90>,\n",
        " <kt_simul.core.simul_spindle.Metaphase at 0x7993ad0>,\n",
        " <kt_simul.core.simul_spindle.Metaphase at 0x7606b50>,\n",
        " <kt_simul.core.simul_spindle.Metaphase at 0x95f5710>,\n",
        " <kt_simul.core.simul_spindle.Metaphase at 0x9b5a890>,\n",
        " <kt_simul.core.simul_spindle.Metaphase at 0x8ba6d90>]"
       ]
      }
     ],
     "prompt_number": 56
    }
   ],
   "metadata": {}
  }
 ]
}